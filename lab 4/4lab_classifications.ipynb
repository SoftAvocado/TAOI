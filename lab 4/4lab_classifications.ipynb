{
  "nbformat": 4,
  "nbformat_minor": 0,
  "metadata": {
    "colab": {
      "name": "3lab_tree1.ipynb",
      "provenance": [],
      "collapsed_sections": []
    },
    "kernelspec": {
      "name": "python3",
      "display_name": "Python 3"
    },
    "language_info": {
      "name": "python"
    }
  },
  "cells": [
    {
      "cell_type": "markdown",
      "source": [
        "# preprocessing data"
      ],
      "metadata": {
        "id": "hLR_NtWq0Jo5"
      }
    },
    {
      "cell_type": "code",
      "execution_count": 1,
      "metadata": {
        "id": "KdQ5Qph4yfxI"
      },
      "outputs": [],
      "source": [
        "import numpy as np\n",
        "import pandas as pd\n",
        "import seaborn as sns\n",
        "\n",
        "import matplotlib.pyplot as plt\n",
        "%matplotlib inline"
      ]
    },
    {
      "cell_type": "code",
      "source": [
        "import warnings\n",
        "warnings.filterwarnings('ignore')"
      ],
      "metadata": {
        "id": "4Z1glCHlypO_"
      },
      "execution_count": 2,
      "outputs": []
    },
    {
      "cell_type": "code",
      "source": [
        "data = 'grades.csv'\n",
        "df = pd.read_csv(data, header=None)"
      ],
      "metadata": {
        "id": "HBbxL_iQyqbh"
      },
      "execution_count": 3,
      "outputs": []
    },
    {
      "cell_type": "code",
      "source": [
        "df.shape"
      ],
      "metadata": {
        "colab": {
          "base_uri": "https://localhost:8080/"
        },
        "id": "RrXuqrtLyvpe",
        "outputId": "559705e0-bbfd-4528-a703-6afc98f90c45"
      },
      "execution_count": 4,
      "outputs": [
        {
          "output_type": "execute_result",
          "data": {
            "text/plain": [
              "(73, 9)"
            ]
          },
          "metadata": {},
          "execution_count": 4
        }
      ]
    },
    {
      "cell_type": "code",
      "source": [
        "df.head()"
      ],
      "metadata": {
        "colab": {
          "base_uri": "https://localhost:8080/",
          "height": 206
        },
        "id": "PFmnwU3Jyw8C",
        "outputId": "05f2031b-7015-4914-dfcc-a9ba7d3aa836"
      },
      "execution_count": 5,
      "outputs": [
        {
          "output_type": "execute_result",
          "data": {
            "text/plain": [
              "           0            1              2            3              4  \\\n",
              "0  PUPIL_SEX  PUPIL_CLASS  TEACHER_RIGHT  TEACHER_CHK  TEACHER_QUEST   \n",
              "1          F           8A             65            0              4   \n",
              "2          F           8A             70            4              0   \n",
              "3          F           8A             85            0              0   \n",
              "4          M           8A             55            0              0   \n",
              "\n",
              "              5           6            7      8  \n",
              "0  TEACHER_CORR  PUPIL_CORR  PUPIL_STRIP  GRADE  \n",
              "1             2           1            6     4-  \n",
              "2             4           0            4      3  \n",
              "3             4           3            5      4  \n",
              "4             1           8            3      3  "
            ],
            "text/html": [
              "\n",
              "  <div id=\"df-be9593b0-4b71-4565-bb69-5163be5f2af9\">\n",
              "    <div class=\"colab-df-container\">\n",
              "      <div>\n",
              "<style scoped>\n",
              "    .dataframe tbody tr th:only-of-type {\n",
              "        vertical-align: middle;\n",
              "    }\n",
              "\n",
              "    .dataframe tbody tr th {\n",
              "        vertical-align: top;\n",
              "    }\n",
              "\n",
              "    .dataframe thead th {\n",
              "        text-align: right;\n",
              "    }\n",
              "</style>\n",
              "<table border=\"1\" class=\"dataframe\">\n",
              "  <thead>\n",
              "    <tr style=\"text-align: right;\">\n",
              "      <th></th>\n",
              "      <th>0</th>\n",
              "      <th>1</th>\n",
              "      <th>2</th>\n",
              "      <th>3</th>\n",
              "      <th>4</th>\n",
              "      <th>5</th>\n",
              "      <th>6</th>\n",
              "      <th>7</th>\n",
              "      <th>8</th>\n",
              "    </tr>\n",
              "  </thead>\n",
              "  <tbody>\n",
              "    <tr>\n",
              "      <th>0</th>\n",
              "      <td>PUPIL_SEX</td>\n",
              "      <td>PUPIL_CLASS</td>\n",
              "      <td>TEACHER_RIGHT</td>\n",
              "      <td>TEACHER_CHK</td>\n",
              "      <td>TEACHER_QUEST</td>\n",
              "      <td>TEACHER_CORR</td>\n",
              "      <td>PUPIL_CORR</td>\n",
              "      <td>PUPIL_STRIP</td>\n",
              "      <td>GRADE</td>\n",
              "    </tr>\n",
              "    <tr>\n",
              "      <th>1</th>\n",
              "      <td>F</td>\n",
              "      <td>8A</td>\n",
              "      <td>65</td>\n",
              "      <td>0</td>\n",
              "      <td>4</td>\n",
              "      <td>2</td>\n",
              "      <td>1</td>\n",
              "      <td>6</td>\n",
              "      <td>4-</td>\n",
              "    </tr>\n",
              "    <tr>\n",
              "      <th>2</th>\n",
              "      <td>F</td>\n",
              "      <td>8A</td>\n",
              "      <td>70</td>\n",
              "      <td>4</td>\n",
              "      <td>0</td>\n",
              "      <td>4</td>\n",
              "      <td>0</td>\n",
              "      <td>4</td>\n",
              "      <td>3</td>\n",
              "    </tr>\n",
              "    <tr>\n",
              "      <th>3</th>\n",
              "      <td>F</td>\n",
              "      <td>8A</td>\n",
              "      <td>85</td>\n",
              "      <td>0</td>\n",
              "      <td>0</td>\n",
              "      <td>4</td>\n",
              "      <td>3</td>\n",
              "      <td>5</td>\n",
              "      <td>4</td>\n",
              "    </tr>\n",
              "    <tr>\n",
              "      <th>4</th>\n",
              "      <td>M</td>\n",
              "      <td>8A</td>\n",
              "      <td>55</td>\n",
              "      <td>0</td>\n",
              "      <td>0</td>\n",
              "      <td>1</td>\n",
              "      <td>8</td>\n",
              "      <td>3</td>\n",
              "      <td>3</td>\n",
              "    </tr>\n",
              "  </tbody>\n",
              "</table>\n",
              "</div>\n",
              "      <button class=\"colab-df-convert\" onclick=\"convertToInteractive('df-be9593b0-4b71-4565-bb69-5163be5f2af9')\"\n",
              "              title=\"Convert this dataframe to an interactive table.\"\n",
              "              style=\"display:none;\">\n",
              "        \n",
              "  <svg xmlns=\"http://www.w3.org/2000/svg\" height=\"24px\"viewBox=\"0 0 24 24\"\n",
              "       width=\"24px\">\n",
              "    <path d=\"M0 0h24v24H0V0z\" fill=\"none\"/>\n",
              "    <path d=\"M18.56 5.44l.94 2.06.94-2.06 2.06-.94-2.06-.94-.94-2.06-.94 2.06-2.06.94zm-11 1L8.5 8.5l.94-2.06 2.06-.94-2.06-.94L8.5 2.5l-.94 2.06-2.06.94zm10 10l.94 2.06.94-2.06 2.06-.94-2.06-.94-.94-2.06-.94 2.06-2.06.94z\"/><path d=\"M17.41 7.96l-1.37-1.37c-.4-.4-.92-.59-1.43-.59-.52 0-1.04.2-1.43.59L10.3 9.45l-7.72 7.72c-.78.78-.78 2.05 0 2.83L4 21.41c.39.39.9.59 1.41.59.51 0 1.02-.2 1.41-.59l7.78-7.78 2.81-2.81c.8-.78.8-2.07 0-2.86zM5.41 20L4 18.59l7.72-7.72 1.47 1.35L5.41 20z\"/>\n",
              "  </svg>\n",
              "      </button>\n",
              "      \n",
              "  <style>\n",
              "    .colab-df-container {\n",
              "      display:flex;\n",
              "      flex-wrap:wrap;\n",
              "      gap: 12px;\n",
              "    }\n",
              "\n",
              "    .colab-df-convert {\n",
              "      background-color: #E8F0FE;\n",
              "      border: none;\n",
              "      border-radius: 50%;\n",
              "      cursor: pointer;\n",
              "      display: none;\n",
              "      fill: #1967D2;\n",
              "      height: 32px;\n",
              "      padding: 0 0 0 0;\n",
              "      width: 32px;\n",
              "    }\n",
              "\n",
              "    .colab-df-convert:hover {\n",
              "      background-color: #E2EBFA;\n",
              "      box-shadow: 0px 1px 2px rgba(60, 64, 67, 0.3), 0px 1px 3px 1px rgba(60, 64, 67, 0.15);\n",
              "      fill: #174EA6;\n",
              "    }\n",
              "\n",
              "    [theme=dark] .colab-df-convert {\n",
              "      background-color: #3B4455;\n",
              "      fill: #D2E3FC;\n",
              "    }\n",
              "\n",
              "    [theme=dark] .colab-df-convert:hover {\n",
              "      background-color: #434B5C;\n",
              "      box-shadow: 0px 1px 3px 1px rgba(0, 0, 0, 0.15);\n",
              "      filter: drop-shadow(0px 1px 2px rgba(0, 0, 0, 0.3));\n",
              "      fill: #FFFFFF;\n",
              "    }\n",
              "  </style>\n",
              "\n",
              "      <script>\n",
              "        const buttonEl =\n",
              "          document.querySelector('#df-be9593b0-4b71-4565-bb69-5163be5f2af9 button.colab-df-convert');\n",
              "        buttonEl.style.display =\n",
              "          google.colab.kernel.accessAllowed ? 'block' : 'none';\n",
              "\n",
              "        async function convertToInteractive(key) {\n",
              "          const element = document.querySelector('#df-be9593b0-4b71-4565-bb69-5163be5f2af9');\n",
              "          const dataTable =\n",
              "            await google.colab.kernel.invokeFunction('convertToInteractive',\n",
              "                                                     [key], {});\n",
              "          if (!dataTable) return;\n",
              "\n",
              "          const docLinkHtml = 'Like what you see? Visit the ' +\n",
              "            '<a target=\"_blank\" href=https://colab.research.google.com/notebooks/data_table.ipynb>data table notebook</a>'\n",
              "            + ' to learn more about interactive tables.';\n",
              "          element.innerHTML = '';\n",
              "          dataTable['output_type'] = 'display_data';\n",
              "          await google.colab.output.renderOutput(dataTable, element);\n",
              "          const docLink = document.createElement('div');\n",
              "          docLink.innerHTML = docLinkHtml;\n",
              "          element.appendChild(docLink);\n",
              "        }\n",
              "      </script>\n",
              "    </div>\n",
              "  </div>\n",
              "  "
            ]
          },
          "metadata": {},
          "execution_count": 5
        }
      ]
    },
    {
      "cell_type": "code",
      "source": [
        "col_names = [df[i][0] for i in range(df.shape[1])]\n",
        "col_names"
      ],
      "metadata": {
        "colab": {
          "base_uri": "https://localhost:8080/"
        },
        "id": "j9jxxvu-yywf",
        "outputId": "68870b07-3701-4ce4-f009-17b2d0bb6250"
      },
      "execution_count": 6,
      "outputs": [
        {
          "output_type": "execute_result",
          "data": {
            "text/plain": [
              "['PUPIL_SEX',\n",
              " 'PUPIL_CLASS',\n",
              " 'TEACHER_RIGHT',\n",
              " 'TEACHER_CHK',\n",
              " 'TEACHER_QUEST',\n",
              " 'TEACHER_CORR',\n",
              " 'PUPIL_CORR',\n",
              " 'PUPIL_STRIP',\n",
              " 'GRADE']"
            ]
          },
          "metadata": {},
          "execution_count": 6
        }
      ]
    },
    {
      "cell_type": "code",
      "source": [
        "df = df[1:]\n",
        "df.columns = col_names\n",
        "df"
      ],
      "metadata": {
        "colab": {
          "base_uri": "https://localhost:8080/",
          "height": 424
        },
        "id": "BjxpQxzbzktD",
        "outputId": "e94da74f-8bb6-4b18-beca-a86596df0712"
      },
      "execution_count": 7,
      "outputs": [
        {
          "output_type": "execute_result",
          "data": {
            "text/plain": [
              "   PUPIL_SEX PUPIL_CLASS TEACHER_RIGHT TEACHER_CHK TEACHER_QUEST TEACHER_CORR  \\\n",
              "1          F          8A            65           0             4            2   \n",
              "2          F          8A            70           4             0            4   \n",
              "3          F          8A            85           0             0            4   \n",
              "4          M          8A            55           0             0            1   \n",
              "5          M          8A            40           1             2            0   \n",
              "..       ...         ...           ...         ...           ...          ...   \n",
              "68         F          8A            80           1             0            2   \n",
              "69         F          8A            85           0             0            1   \n",
              "70         F          8A            90           0             0            0   \n",
              "71         F          8A            95           0             0            3   \n",
              "72         F          8A            55           0             0            0   \n",
              "\n",
              "   PUPIL_CORR PUPIL_STRIP GRADE  \n",
              "1           1           6    4-  \n",
              "2           0           4     3  \n",
              "3           3           5     4  \n",
              "4           8           3     3  \n",
              "5           3           4     2  \n",
              "..        ...         ...   ...  \n",
              "68          1           7    4-  \n",
              "69          2           2     4  \n",
              "70          1           1     4  \n",
              "71          1           2    5-  \n",
              "72          3           3     3  \n",
              "\n",
              "[72 rows x 9 columns]"
            ],
            "text/html": [
              "\n",
              "  <div id=\"df-6133a944-89fd-4c81-98e3-1ff2896e92a2\">\n",
              "    <div class=\"colab-df-container\">\n",
              "      <div>\n",
              "<style scoped>\n",
              "    .dataframe tbody tr th:only-of-type {\n",
              "        vertical-align: middle;\n",
              "    }\n",
              "\n",
              "    .dataframe tbody tr th {\n",
              "        vertical-align: top;\n",
              "    }\n",
              "\n",
              "    .dataframe thead th {\n",
              "        text-align: right;\n",
              "    }\n",
              "</style>\n",
              "<table border=\"1\" class=\"dataframe\">\n",
              "  <thead>\n",
              "    <tr style=\"text-align: right;\">\n",
              "      <th></th>\n",
              "      <th>PUPIL_SEX</th>\n",
              "      <th>PUPIL_CLASS</th>\n",
              "      <th>TEACHER_RIGHT</th>\n",
              "      <th>TEACHER_CHK</th>\n",
              "      <th>TEACHER_QUEST</th>\n",
              "      <th>TEACHER_CORR</th>\n",
              "      <th>PUPIL_CORR</th>\n",
              "      <th>PUPIL_STRIP</th>\n",
              "      <th>GRADE</th>\n",
              "    </tr>\n",
              "  </thead>\n",
              "  <tbody>\n",
              "    <tr>\n",
              "      <th>1</th>\n",
              "      <td>F</td>\n",
              "      <td>8A</td>\n",
              "      <td>65</td>\n",
              "      <td>0</td>\n",
              "      <td>4</td>\n",
              "      <td>2</td>\n",
              "      <td>1</td>\n",
              "      <td>6</td>\n",
              "      <td>4-</td>\n",
              "    </tr>\n",
              "    <tr>\n",
              "      <th>2</th>\n",
              "      <td>F</td>\n",
              "      <td>8A</td>\n",
              "      <td>70</td>\n",
              "      <td>4</td>\n",
              "      <td>0</td>\n",
              "      <td>4</td>\n",
              "      <td>0</td>\n",
              "      <td>4</td>\n",
              "      <td>3</td>\n",
              "    </tr>\n",
              "    <tr>\n",
              "      <th>3</th>\n",
              "      <td>F</td>\n",
              "      <td>8A</td>\n",
              "      <td>85</td>\n",
              "      <td>0</td>\n",
              "      <td>0</td>\n",
              "      <td>4</td>\n",
              "      <td>3</td>\n",
              "      <td>5</td>\n",
              "      <td>4</td>\n",
              "    </tr>\n",
              "    <tr>\n",
              "      <th>4</th>\n",
              "      <td>M</td>\n",
              "      <td>8A</td>\n",
              "      <td>55</td>\n",
              "      <td>0</td>\n",
              "      <td>0</td>\n",
              "      <td>1</td>\n",
              "      <td>8</td>\n",
              "      <td>3</td>\n",
              "      <td>3</td>\n",
              "    </tr>\n",
              "    <tr>\n",
              "      <th>5</th>\n",
              "      <td>M</td>\n",
              "      <td>8A</td>\n",
              "      <td>40</td>\n",
              "      <td>1</td>\n",
              "      <td>2</td>\n",
              "      <td>0</td>\n",
              "      <td>3</td>\n",
              "      <td>4</td>\n",
              "      <td>2</td>\n",
              "    </tr>\n",
              "    <tr>\n",
              "      <th>...</th>\n",
              "      <td>...</td>\n",
              "      <td>...</td>\n",
              "      <td>...</td>\n",
              "      <td>...</td>\n",
              "      <td>...</td>\n",
              "      <td>...</td>\n",
              "      <td>...</td>\n",
              "      <td>...</td>\n",
              "      <td>...</td>\n",
              "    </tr>\n",
              "    <tr>\n",
              "      <th>68</th>\n",
              "      <td>F</td>\n",
              "      <td>8A</td>\n",
              "      <td>80</td>\n",
              "      <td>1</td>\n",
              "      <td>0</td>\n",
              "      <td>2</td>\n",
              "      <td>1</td>\n",
              "      <td>7</td>\n",
              "      <td>4-</td>\n",
              "    </tr>\n",
              "    <tr>\n",
              "      <th>69</th>\n",
              "      <td>F</td>\n",
              "      <td>8A</td>\n",
              "      <td>85</td>\n",
              "      <td>0</td>\n",
              "      <td>0</td>\n",
              "      <td>1</td>\n",
              "      <td>2</td>\n",
              "      <td>2</td>\n",
              "      <td>4</td>\n",
              "    </tr>\n",
              "    <tr>\n",
              "      <th>70</th>\n",
              "      <td>F</td>\n",
              "      <td>8A</td>\n",
              "      <td>90</td>\n",
              "      <td>0</td>\n",
              "      <td>0</td>\n",
              "      <td>0</td>\n",
              "      <td>1</td>\n",
              "      <td>1</td>\n",
              "      <td>4</td>\n",
              "    </tr>\n",
              "    <tr>\n",
              "      <th>71</th>\n",
              "      <td>F</td>\n",
              "      <td>8A</td>\n",
              "      <td>95</td>\n",
              "      <td>0</td>\n",
              "      <td>0</td>\n",
              "      <td>3</td>\n",
              "      <td>1</td>\n",
              "      <td>2</td>\n",
              "      <td>5-</td>\n",
              "    </tr>\n",
              "    <tr>\n",
              "      <th>72</th>\n",
              "      <td>F</td>\n",
              "      <td>8A</td>\n",
              "      <td>55</td>\n",
              "      <td>0</td>\n",
              "      <td>0</td>\n",
              "      <td>0</td>\n",
              "      <td>3</td>\n",
              "      <td>3</td>\n",
              "      <td>3</td>\n",
              "    </tr>\n",
              "  </tbody>\n",
              "</table>\n",
              "<p>72 rows × 9 columns</p>\n",
              "</div>\n",
              "      <button class=\"colab-df-convert\" onclick=\"convertToInteractive('df-6133a944-89fd-4c81-98e3-1ff2896e92a2')\"\n",
              "              title=\"Convert this dataframe to an interactive table.\"\n",
              "              style=\"display:none;\">\n",
              "        \n",
              "  <svg xmlns=\"http://www.w3.org/2000/svg\" height=\"24px\"viewBox=\"0 0 24 24\"\n",
              "       width=\"24px\">\n",
              "    <path d=\"M0 0h24v24H0V0z\" fill=\"none\"/>\n",
              "    <path d=\"M18.56 5.44l.94 2.06.94-2.06 2.06-.94-2.06-.94-.94-2.06-.94 2.06-2.06.94zm-11 1L8.5 8.5l.94-2.06 2.06-.94-2.06-.94L8.5 2.5l-.94 2.06-2.06.94zm10 10l.94 2.06.94-2.06 2.06-.94-2.06-.94-.94-2.06-.94 2.06-2.06.94z\"/><path d=\"M17.41 7.96l-1.37-1.37c-.4-.4-.92-.59-1.43-.59-.52 0-1.04.2-1.43.59L10.3 9.45l-7.72 7.72c-.78.78-.78 2.05 0 2.83L4 21.41c.39.39.9.59 1.41.59.51 0 1.02-.2 1.41-.59l7.78-7.78 2.81-2.81c.8-.78.8-2.07 0-2.86zM5.41 20L4 18.59l7.72-7.72 1.47 1.35L5.41 20z\"/>\n",
              "  </svg>\n",
              "      </button>\n",
              "      \n",
              "  <style>\n",
              "    .colab-df-container {\n",
              "      display:flex;\n",
              "      flex-wrap:wrap;\n",
              "      gap: 12px;\n",
              "    }\n",
              "\n",
              "    .colab-df-convert {\n",
              "      background-color: #E8F0FE;\n",
              "      border: none;\n",
              "      border-radius: 50%;\n",
              "      cursor: pointer;\n",
              "      display: none;\n",
              "      fill: #1967D2;\n",
              "      height: 32px;\n",
              "      padding: 0 0 0 0;\n",
              "      width: 32px;\n",
              "    }\n",
              "\n",
              "    .colab-df-convert:hover {\n",
              "      background-color: #E2EBFA;\n",
              "      box-shadow: 0px 1px 2px rgba(60, 64, 67, 0.3), 0px 1px 3px 1px rgba(60, 64, 67, 0.15);\n",
              "      fill: #174EA6;\n",
              "    }\n",
              "\n",
              "    [theme=dark] .colab-df-convert {\n",
              "      background-color: #3B4455;\n",
              "      fill: #D2E3FC;\n",
              "    }\n",
              "\n",
              "    [theme=dark] .colab-df-convert:hover {\n",
              "      background-color: #434B5C;\n",
              "      box-shadow: 0px 1px 3px 1px rgba(0, 0, 0, 0.15);\n",
              "      filter: drop-shadow(0px 1px 2px rgba(0, 0, 0, 0.3));\n",
              "      fill: #FFFFFF;\n",
              "    }\n",
              "  </style>\n",
              "\n",
              "      <script>\n",
              "        const buttonEl =\n",
              "          document.querySelector('#df-6133a944-89fd-4c81-98e3-1ff2896e92a2 button.colab-df-convert');\n",
              "        buttonEl.style.display =\n",
              "          google.colab.kernel.accessAllowed ? 'block' : 'none';\n",
              "\n",
              "        async function convertToInteractive(key) {\n",
              "          const element = document.querySelector('#df-6133a944-89fd-4c81-98e3-1ff2896e92a2');\n",
              "          const dataTable =\n",
              "            await google.colab.kernel.invokeFunction('convertToInteractive',\n",
              "                                                     [key], {});\n",
              "          if (!dataTable) return;\n",
              "\n",
              "          const docLinkHtml = 'Like what you see? Visit the ' +\n",
              "            '<a target=\"_blank\" href=https://colab.research.google.com/notebooks/data_table.ipynb>data table notebook</a>'\n",
              "            + ' to learn more about interactive tables.';\n",
              "          element.innerHTML = '';\n",
              "          dataTable['output_type'] = 'display_data';\n",
              "          await google.colab.output.renderOutput(dataTable, element);\n",
              "          const docLink = document.createElement('div');\n",
              "          docLink.innerHTML = docLinkHtml;\n",
              "          element.appendChild(docLink);\n",
              "        }\n",
              "      </script>\n",
              "    </div>\n",
              "  </div>\n",
              "  "
            ]
          },
          "metadata": {},
          "execution_count": 7
        }
      ]
    },
    {
      "cell_type": "markdown",
      "source": [
        "#data analysis"
      ],
      "metadata": {
        "id": "ZCOyk_Ll0UJ-"
      }
    },
    {
      "cell_type": "code",
      "source": [
        "for col in col_names:\n",
        "    print(df[col].value_counts())"
      ],
      "metadata": {
        "colab": {
          "base_uri": "https://localhost:8080/"
        },
        "id": "DK_LeOnO0VlK",
        "outputId": "492b65e9-e57c-45b8-d8ef-597abb67cf08"
      },
      "execution_count": 8,
      "outputs": [
        {
          "output_type": "stream",
          "name": "stdout",
          "text": [
            "F    58\n",
            "M    14\n",
            "Name: PUPIL_SEX, dtype: int64\n",
            "8A    54\n",
            "8B    18\n",
            "Name: PUPIL_CLASS, dtype: int64\n",
            "100    17\n",
            "60      7\n",
            "80      6\n",
            "40      6\n",
            "0       5\n",
            "50      4\n",
            "30      4\n",
            "90      4\n",
            "85      3\n",
            "70      3\n",
            "20      2\n",
            "65      2\n",
            "55      2\n",
            "95      2\n",
            "87      1\n",
            "75      1\n",
            "86      1\n",
            "67      1\n",
            "15      1\n",
            "Name: TEACHER_RIGHT, dtype: int64\n",
            "0    56\n",
            "1    13\n",
            "4     1\n",
            "3     1\n",
            "2     1\n",
            "Name: TEACHER_CHK, dtype: int64\n",
            "0    51\n",
            "1    11\n",
            "2     6\n",
            "3     3\n",
            "4     1\n",
            "Name: TEACHER_QUEST, dtype: int64\n",
            "0    23\n",
            "1    18\n",
            "2    16\n",
            "4     7\n",
            "3     4\n",
            "6     2\n",
            "5     2\n",
            "Name: TEACHER_CORR, dtype: int64\n",
            "0     30\n",
            "1     18\n",
            "3      7\n",
            "2      7\n",
            "4      3\n",
            "5      3\n",
            "8      2\n",
            "10     1\n",
            "9      1\n",
            "Name: PUPIL_CORR, dtype: int64\n",
            "0     18\n",
            "1     14\n",
            "2     10\n",
            "4      8\n",
            "5      8\n",
            "3      4\n",
            "6      2\n",
            "12     2\n",
            "7      2\n",
            "8      1\n",
            "9      1\n",
            "10     1\n",
            "11     1\n",
            "Name: PUPIL_STRIP, dtype: int64\n",
            "4     20\n",
            "3     13\n",
            "2     11\n",
            "5     11\n",
            "4-     8\n",
            "5-     7\n",
            "3-     2\n",
            "Name: GRADE, dtype: int64\n"
          ]
        }
      ]
    },
    {
      "cell_type": "code",
      "source": [
        "df.isnull().sum()"
      ],
      "metadata": {
        "colab": {
          "base_uri": "https://localhost:8080/"
        },
        "id": "bMdzuwYc0c5o",
        "outputId": "ac66f23e-d573-4e9d-9181-2ef4300398e2"
      },
      "execution_count": 9,
      "outputs": [
        {
          "output_type": "execute_result",
          "data": {
            "text/plain": [
              "PUPIL_SEX        0\n",
              "PUPIL_CLASS      0\n",
              "TEACHER_RIGHT    0\n",
              "TEACHER_CHK      0\n",
              "TEACHER_QUEST    0\n",
              "TEACHER_CORR     0\n",
              "PUPIL_CORR       0\n",
              "PUPIL_STRIP      0\n",
              "GRADE            0\n",
              "dtype: int64"
            ]
          },
          "metadata": {},
          "execution_count": 9
        }
      ]
    },
    {
      "cell_type": "code",
      "source": [
        "!pip install category_encoders"
      ],
      "metadata": {
        "colab": {
          "base_uri": "https://localhost:8080/"
        },
        "id": "3gepcKXUTfOF",
        "outputId": "a06fac5a-1ffd-4a41-b178-97c91dba3fb8"
      },
      "execution_count": 10,
      "outputs": [
        {
          "output_type": "stream",
          "name": "stdout",
          "text": [
            "Collecting category_encoders\n",
            "  Downloading category_encoders-2.4.0-py2.py3-none-any.whl (86 kB)\n",
            "\u001b[?25l\r\u001b[K     |███▉                            | 10 kB 20.2 MB/s eta 0:00:01\r\u001b[K     |███████▋                        | 20 kB 13.1 MB/s eta 0:00:01\r\u001b[K     |███████████▍                    | 30 kB 10.1 MB/s eta 0:00:01\r\u001b[K     |███████████████▏                | 40 kB 9.1 MB/s eta 0:00:01\r\u001b[K     |███████████████████             | 51 kB 4.4 MB/s eta 0:00:01\r\u001b[K     |██████████████████████▊         | 61 kB 5.2 MB/s eta 0:00:01\r\u001b[K     |██████████████████████████▌     | 71 kB 5.7 MB/s eta 0:00:01\r\u001b[K     |██████████████████████████████▎ | 81 kB 5.9 MB/s eta 0:00:01\r\u001b[K     |████████████████████████████████| 86 kB 3.1 MB/s \n",
            "\u001b[?25hRequirement already satisfied: scipy>=1.0.0 in /usr/local/lib/python3.7/dist-packages (from category_encoders) (1.4.1)\n",
            "Requirement already satisfied: statsmodels>=0.9.0 in /usr/local/lib/python3.7/dist-packages (from category_encoders) (0.10.2)\n",
            "Requirement already satisfied: pandas>=0.21.1 in /usr/local/lib/python3.7/dist-packages (from category_encoders) (1.3.5)\n",
            "Requirement already satisfied: numpy>=1.14.0 in /usr/local/lib/python3.7/dist-packages (from category_encoders) (1.21.5)\n",
            "Requirement already satisfied: patsy>=0.5.1 in /usr/local/lib/python3.7/dist-packages (from category_encoders) (0.5.2)\n",
            "Requirement already satisfied: scikit-learn>=0.20.0 in /usr/local/lib/python3.7/dist-packages (from category_encoders) (1.0.2)\n",
            "Requirement already satisfied: python-dateutil>=2.7.3 in /usr/local/lib/python3.7/dist-packages (from pandas>=0.21.1->category_encoders) (2.8.2)\n",
            "Requirement already satisfied: pytz>=2017.3 in /usr/local/lib/python3.7/dist-packages (from pandas>=0.21.1->category_encoders) (2018.9)\n",
            "Requirement already satisfied: six in /usr/local/lib/python3.7/dist-packages (from patsy>=0.5.1->category_encoders) (1.15.0)\n",
            "Requirement already satisfied: threadpoolctl>=2.0.0 in /usr/local/lib/python3.7/dist-packages (from scikit-learn>=0.20.0->category_encoders) (3.1.0)\n",
            "Requirement already satisfied: joblib>=0.11 in /usr/local/lib/python3.7/dist-packages (from scikit-learn>=0.20.0->category_encoders) (1.1.0)\n",
            "Installing collected packages: category-encoders\n",
            "Successfully installed category-encoders-2.4.0\n"
          ]
        }
      ]
    },
    {
      "cell_type": "code",
      "source": [
        "from sklearn.model_selection import train_test_split\n",
        "import category_encoders as ce\n",
        "\n",
        "# splitting the dataset function\n",
        "def make_data(df, test_size_param):\n",
        "  X = df.drop(['GRADE'], axis=1)\n",
        "  y = df['GRADE']\n",
        "\n",
        "  X_train, X_test, y_train, y_test = train_test_split(X, y, test_size = test_size_param, random_state = 42)\n",
        "  encoder = ce.OrdinalEncoder(cols=['PUPIL_SEX','PUPIL_CLASS','TEACHER_RIGHT','TEACHER_CHK','TEACHER_QUEST',\n",
        "                                  'TEACHER_CORR','PUPIL_CORR','PUPIL_STRIP'])\n",
        "  X_train = encoder.fit_transform(X_train)\n",
        "  X_test = encoder.transform(X_test)\n",
        "\n",
        "  return X_train, X_test, y_train, y_test"
      ],
      "metadata": {
        "id": "WXN2mDuqTIqI"
      },
      "execution_count": 11,
      "outputs": []
    },
    {
      "cell_type": "code",
      "source": [
        "X_train, X_test, y_train, y_test = make_data(df, test_size_param=0.15)\n",
        "X_train"
      ],
      "metadata": {
        "colab": {
          "base_uri": "https://localhost:8080/",
          "height": 424
        },
        "id": "un6T7qJlj_2R",
        "outputId": "4e26d305-d7f5-4a6d-c74d-15bc92be9fa7"
      },
      "execution_count": 12,
      "outputs": [
        {
          "output_type": "execute_result",
          "data": {
            "text/plain": [
              "    PUPIL_SEX  PUPIL_CLASS  TEACHER_RIGHT  TEACHER_CHK  TEACHER_QUEST  \\\n",
              "32          1            1              1            1              1   \n",
              "10          1            1              1            2              1   \n",
              "46          2            2              2            1              2   \n",
              "6           2            1              3            1              3   \n",
              "23          1            1              1            1              1   \n",
              "..        ...          ...            ...          ...            ...   \n",
              "24          1            1              6            1              1   \n",
              "21          1            1             13            1              3   \n",
              "61          1            1              1            1              1   \n",
              "15          1            1             19            2              1   \n",
              "52          1            2             18            1              1   \n",
              "\n",
              "    TEACHER_CORR  PUPIL_CORR  PUPIL_STRIP  \n",
              "32             1           1            1  \n",
              "10             2           2            2  \n",
              "46             1           1            1  \n",
              "6              3           3            3  \n",
              "23             4           1            2  \n",
              "..           ...         ...          ...  \n",
              "24             1           5            5  \n",
              "21             1           1            2  \n",
              "61             4           4            4  \n",
              "15             2           4            1  \n",
              "52             2           5            2  \n",
              "\n",
              "[61 rows x 8 columns]"
            ],
            "text/html": [
              "\n",
              "  <div id=\"df-0d2f24b2-495f-4163-840a-fd8e2157f04c\">\n",
              "    <div class=\"colab-df-container\">\n",
              "      <div>\n",
              "<style scoped>\n",
              "    .dataframe tbody tr th:only-of-type {\n",
              "        vertical-align: middle;\n",
              "    }\n",
              "\n",
              "    .dataframe tbody tr th {\n",
              "        vertical-align: top;\n",
              "    }\n",
              "\n",
              "    .dataframe thead th {\n",
              "        text-align: right;\n",
              "    }\n",
              "</style>\n",
              "<table border=\"1\" class=\"dataframe\">\n",
              "  <thead>\n",
              "    <tr style=\"text-align: right;\">\n",
              "      <th></th>\n",
              "      <th>PUPIL_SEX</th>\n",
              "      <th>PUPIL_CLASS</th>\n",
              "      <th>TEACHER_RIGHT</th>\n",
              "      <th>TEACHER_CHK</th>\n",
              "      <th>TEACHER_QUEST</th>\n",
              "      <th>TEACHER_CORR</th>\n",
              "      <th>PUPIL_CORR</th>\n",
              "      <th>PUPIL_STRIP</th>\n",
              "    </tr>\n",
              "  </thead>\n",
              "  <tbody>\n",
              "    <tr>\n",
              "      <th>32</th>\n",
              "      <td>1</td>\n",
              "      <td>1</td>\n",
              "      <td>1</td>\n",
              "      <td>1</td>\n",
              "      <td>1</td>\n",
              "      <td>1</td>\n",
              "      <td>1</td>\n",
              "      <td>1</td>\n",
              "    </tr>\n",
              "    <tr>\n",
              "      <th>10</th>\n",
              "      <td>1</td>\n",
              "      <td>1</td>\n",
              "      <td>1</td>\n",
              "      <td>2</td>\n",
              "      <td>1</td>\n",
              "      <td>2</td>\n",
              "      <td>2</td>\n",
              "      <td>2</td>\n",
              "    </tr>\n",
              "    <tr>\n",
              "      <th>46</th>\n",
              "      <td>2</td>\n",
              "      <td>2</td>\n",
              "      <td>2</td>\n",
              "      <td>1</td>\n",
              "      <td>2</td>\n",
              "      <td>1</td>\n",
              "      <td>1</td>\n",
              "      <td>1</td>\n",
              "    </tr>\n",
              "    <tr>\n",
              "      <th>6</th>\n",
              "      <td>2</td>\n",
              "      <td>1</td>\n",
              "      <td>3</td>\n",
              "      <td>1</td>\n",
              "      <td>3</td>\n",
              "      <td>3</td>\n",
              "      <td>3</td>\n",
              "      <td>3</td>\n",
              "    </tr>\n",
              "    <tr>\n",
              "      <th>23</th>\n",
              "      <td>1</td>\n",
              "      <td>1</td>\n",
              "      <td>1</td>\n",
              "      <td>1</td>\n",
              "      <td>1</td>\n",
              "      <td>4</td>\n",
              "      <td>1</td>\n",
              "      <td>2</td>\n",
              "    </tr>\n",
              "    <tr>\n",
              "      <th>...</th>\n",
              "      <td>...</td>\n",
              "      <td>...</td>\n",
              "      <td>...</td>\n",
              "      <td>...</td>\n",
              "      <td>...</td>\n",
              "      <td>...</td>\n",
              "      <td>...</td>\n",
              "      <td>...</td>\n",
              "    </tr>\n",
              "    <tr>\n",
              "      <th>24</th>\n",
              "      <td>1</td>\n",
              "      <td>1</td>\n",
              "      <td>6</td>\n",
              "      <td>1</td>\n",
              "      <td>1</td>\n",
              "      <td>1</td>\n",
              "      <td>5</td>\n",
              "      <td>5</td>\n",
              "    </tr>\n",
              "    <tr>\n",
              "      <th>21</th>\n",
              "      <td>1</td>\n",
              "      <td>1</td>\n",
              "      <td>13</td>\n",
              "      <td>1</td>\n",
              "      <td>3</td>\n",
              "      <td>1</td>\n",
              "      <td>1</td>\n",
              "      <td>2</td>\n",
              "    </tr>\n",
              "    <tr>\n",
              "      <th>61</th>\n",
              "      <td>1</td>\n",
              "      <td>1</td>\n",
              "      <td>1</td>\n",
              "      <td>1</td>\n",
              "      <td>1</td>\n",
              "      <td>4</td>\n",
              "      <td>4</td>\n",
              "      <td>4</td>\n",
              "    </tr>\n",
              "    <tr>\n",
              "      <th>15</th>\n",
              "      <td>1</td>\n",
              "      <td>1</td>\n",
              "      <td>19</td>\n",
              "      <td>2</td>\n",
              "      <td>1</td>\n",
              "      <td>2</td>\n",
              "      <td>4</td>\n",
              "      <td>1</td>\n",
              "    </tr>\n",
              "    <tr>\n",
              "      <th>52</th>\n",
              "      <td>1</td>\n",
              "      <td>2</td>\n",
              "      <td>18</td>\n",
              "      <td>1</td>\n",
              "      <td>1</td>\n",
              "      <td>2</td>\n",
              "      <td>5</td>\n",
              "      <td>2</td>\n",
              "    </tr>\n",
              "  </tbody>\n",
              "</table>\n",
              "<p>61 rows × 8 columns</p>\n",
              "</div>\n",
              "      <button class=\"colab-df-convert\" onclick=\"convertToInteractive('df-0d2f24b2-495f-4163-840a-fd8e2157f04c')\"\n",
              "              title=\"Convert this dataframe to an interactive table.\"\n",
              "              style=\"display:none;\">\n",
              "        \n",
              "  <svg xmlns=\"http://www.w3.org/2000/svg\" height=\"24px\"viewBox=\"0 0 24 24\"\n",
              "       width=\"24px\">\n",
              "    <path d=\"M0 0h24v24H0V0z\" fill=\"none\"/>\n",
              "    <path d=\"M18.56 5.44l.94 2.06.94-2.06 2.06-.94-2.06-.94-.94-2.06-.94 2.06-2.06.94zm-11 1L8.5 8.5l.94-2.06 2.06-.94-2.06-.94L8.5 2.5l-.94 2.06-2.06.94zm10 10l.94 2.06.94-2.06 2.06-.94-2.06-.94-.94-2.06-.94 2.06-2.06.94z\"/><path d=\"M17.41 7.96l-1.37-1.37c-.4-.4-.92-.59-1.43-.59-.52 0-1.04.2-1.43.59L10.3 9.45l-7.72 7.72c-.78.78-.78 2.05 0 2.83L4 21.41c.39.39.9.59 1.41.59.51 0 1.02-.2 1.41-.59l7.78-7.78 2.81-2.81c.8-.78.8-2.07 0-2.86zM5.41 20L4 18.59l7.72-7.72 1.47 1.35L5.41 20z\"/>\n",
              "  </svg>\n",
              "      </button>\n",
              "      \n",
              "  <style>\n",
              "    .colab-df-container {\n",
              "      display:flex;\n",
              "      flex-wrap:wrap;\n",
              "      gap: 12px;\n",
              "    }\n",
              "\n",
              "    .colab-df-convert {\n",
              "      background-color: #E8F0FE;\n",
              "      border: none;\n",
              "      border-radius: 50%;\n",
              "      cursor: pointer;\n",
              "      display: none;\n",
              "      fill: #1967D2;\n",
              "      height: 32px;\n",
              "      padding: 0 0 0 0;\n",
              "      width: 32px;\n",
              "    }\n",
              "\n",
              "    .colab-df-convert:hover {\n",
              "      background-color: #E2EBFA;\n",
              "      box-shadow: 0px 1px 2px rgba(60, 64, 67, 0.3), 0px 1px 3px 1px rgba(60, 64, 67, 0.15);\n",
              "      fill: #174EA6;\n",
              "    }\n",
              "\n",
              "    [theme=dark] .colab-df-convert {\n",
              "      background-color: #3B4455;\n",
              "      fill: #D2E3FC;\n",
              "    }\n",
              "\n",
              "    [theme=dark] .colab-df-convert:hover {\n",
              "      background-color: #434B5C;\n",
              "      box-shadow: 0px 1px 3px 1px rgba(0, 0, 0, 0.15);\n",
              "      filter: drop-shadow(0px 1px 2px rgba(0, 0, 0, 0.3));\n",
              "      fill: #FFFFFF;\n",
              "    }\n",
              "  </style>\n",
              "\n",
              "      <script>\n",
              "        const buttonEl =\n",
              "          document.querySelector('#df-0d2f24b2-495f-4163-840a-fd8e2157f04c button.colab-df-convert');\n",
              "        buttonEl.style.display =\n",
              "          google.colab.kernel.accessAllowed ? 'block' : 'none';\n",
              "\n",
              "        async function convertToInteractive(key) {\n",
              "          const element = document.querySelector('#df-0d2f24b2-495f-4163-840a-fd8e2157f04c');\n",
              "          const dataTable =\n",
              "            await google.colab.kernel.invokeFunction('convertToInteractive',\n",
              "                                                     [key], {});\n",
              "          if (!dataTable) return;\n",
              "\n",
              "          const docLinkHtml = 'Like what you see? Visit the ' +\n",
              "            '<a target=\"_blank\" href=https://colab.research.google.com/notebooks/data_table.ipynb>data table notebook</a>'\n",
              "            + ' to learn more about interactive tables.';\n",
              "          element.innerHTML = '';\n",
              "          dataTable['output_type'] = 'display_data';\n",
              "          await google.colab.output.renderOutput(dataTable, element);\n",
              "          const docLink = document.createElement('div');\n",
              "          docLink.innerHTML = docLinkHtml;\n",
              "          element.appendChild(docLink);\n",
              "        }\n",
              "      </script>\n",
              "    </div>\n",
              "  </div>\n",
              "  "
            ]
          },
          "metadata": {},
          "execution_count": 12
        }
      ]
    },
    {
      "cell_type": "markdown",
      "source": [
        "#modeling tree"
      ],
      "metadata": {
        "id": "3Sy51w253Hvu"
      }
    },
    {
      "cell_type": "code",
      "source": [
        "#from sklearn.tree import DecisionTreeClassifier\n",
        "from sklearn.ensemble import GradientBoostingClassifier, BaggingClassifier, RandomForestClassifier\n",
        "from sklearn.neighbors import KNeighborsClassifier\n",
        "from sklearn.metrics import precision_recall_curve, classification_report\n",
        "from sklearn import tree"
      ],
      "metadata": {
        "id": "V7roDzCTSpEp"
      },
      "execution_count": 20,
      "outputs": []
    },
    {
      "cell_type": "code",
      "source": [
        "def boostingClassification(df, n_estimators_=100, learning_rate_=1.0, max_depth_=1, random_state_=0, test_size_param=0.15):\n",
        "  X_train, X_test, y_train, y_test = make_data(df, test_size_param)\n",
        "  clf_en = GradientBoostingClassifier(n_estimators=n_estimators_, learning_rate=learning_rate_, max_depth=max_depth_, random_state=random_state_)\n",
        "  clf_en.fit(X_train, y_train)\n",
        "  y_pred_en = clf_en.predict(X_test)\n",
        "\n",
        "  print(classification_report(y_test, clf_en.predict(X_test)))\n",
        "  return clf_en"
      ],
      "metadata": {
        "id": "-VUfTyKE7ZYn"
      },
      "execution_count": 31,
      "outputs": []
    },
    {
      "cell_type": "code",
      "source": [
        "def baggingClassification(df, max_samples_=0.5, max_features_=0.5, test_size_param=0.15):\n",
        "  X_train, X_test, y_train, y_test = make_data(df, test_size_param)\n",
        "  clf_en = BaggingClassifier(KNeighborsClassifier(), max_samples=max_samples_, max_features=max_features_)\n",
        "  clf_en.fit(X_train, y_train)\n",
        "  y_pred_en = clf_en.predict(X_test)\n",
        "\n",
        "  print(classification_report(y_test, clf_en.predict(X_test)))\n",
        "  return clf_en"
      ],
      "metadata": {
        "id": "yzs2UqAQ8AaQ"
      },
      "execution_count": 32,
      "outputs": []
    },
    {
      "cell_type": "code",
      "source": [
        "def randomForestsClassification(df, n_estimators_=100, test_size_param=0.15):\n",
        "  X_train, X_test, y_train, y_test = make_data(df, test_size_param)\n",
        "  clf_en = RandomForestClassifier(n_estimators=n_estimators_)\n",
        "  clf_en.fit(X_train, y_train)\n",
        "  y_pred_en = clf_en.predict(X_test)\n",
        "\n",
        "  print(classification_report(y_test, clf_en.predict(X_test)))\n",
        "  return clf_en"
      ],
      "metadata": {
        "id": "c3DXCi6C9DS3"
      },
      "execution_count": 33,
      "outputs": []
    },
    {
      "cell_type": "code",
      "source": [
        "# creating report\n",
        "def make_classification(df, clf, params={}, random_state=0, test_size_param=0.15):\n",
        "  if clf == 'boosting':\n",
        "    boostingClassification(df, params['n_estimators'], params['learning_rate'], params['max_depth'], random_state, test_size_param)\n",
        "  elif clf == 'bagging':\n",
        "    baggingClassification(df, params['max_samples'], params['max_features'], test_size_param)\n",
        "  elif clf == 'rforests':\n",
        "    randomForestsClassification(df, params['n_estimators'],test_size_param)"
      ],
      "metadata": {
        "id": "jpD4leZD9hEA"
      },
      "execution_count": 56,
      "outputs": []
    },
    {
      "cell_type": "code",
      "source": [
        "make_classification(df, clf=\"boosting\", params={'n_estimators':100, 'learning_rate':0.1, 'max_depth': 4})"
      ],
      "metadata": {
        "colab": {
          "base_uri": "https://localhost:8080/"
        },
        "id": "gfbXhcpBVcvG",
        "outputId": "8e9e03f5-1ba1-4a67-98b5-62cb4bfb4dd3"
      },
      "execution_count": 34,
      "outputs": [
        {
          "output_type": "stream",
          "name": "stdout",
          "text": [
            "              precision    recall  f1-score   support\n",
            "\n",
            "           2       1.00      0.67      0.80         3\n",
            "           3       0.00      0.00      0.00         2\n",
            "           4       0.20      1.00      0.33         1\n",
            "          4-       1.00      0.50      0.67         2\n",
            "           5       1.00      0.50      0.67         2\n",
            "          5-       1.00      1.00      1.00         1\n",
            "\n",
            "    accuracy                           0.55        11\n",
            "   macro avg       0.70      0.61      0.58        11\n",
            "weighted avg       0.75      0.55      0.58        11\n",
            "\n"
          ]
        }
      ]
    },
    {
      "cell_type": "code",
      "source": [
        "make_classification(df, clf=\"bagging\", params={'max_samples':1.0, 'max_features':1.0})"
      ],
      "metadata": {
        "id": "Ukq8ytqar-Av",
        "colab": {
          "base_uri": "https://localhost:8080/"
        },
        "outputId": "7d23e83a-697f-4c00-9189-88f496e6b744"
      },
      "execution_count": 67,
      "outputs": [
        {
          "output_type": "stream",
          "name": "stdout",
          "text": [
            "              precision    recall  f1-score   support\n",
            "\n",
            "           2       0.67      0.67      0.67         3\n",
            "           3       0.50      0.50      0.50         2\n",
            "           4       0.20      1.00      0.33         1\n",
            "          4-       0.00      0.00      0.00         2\n",
            "           5       1.00      0.50      0.67         2\n",
            "          5-       0.00      0.00      0.00         1\n",
            "\n",
            "    accuracy                           0.45        11\n",
            "   macro avg       0.39      0.44      0.36        11\n",
            "weighted avg       0.47      0.45      0.42        11\n",
            "\n"
          ]
        }
      ]
    },
    {
      "cell_type": "code",
      "source": [
        "make_classification(df, clf=\"rforests\", params={'n_estimators':50})"
      ],
      "metadata": {
        "colab": {
          "base_uri": "https://localhost:8080/"
        },
        "id": "nBF9iFghHZKU",
        "outputId": "864e44ec-d6c7-47da-8f25-29f6d8db7a5f"
      },
      "execution_count": 68,
      "outputs": [
        {
          "output_type": "stream",
          "name": "stdout",
          "text": [
            "              precision    recall  f1-score   support\n",
            "\n",
            "           2       1.00      0.67      0.80         3\n",
            "           3       0.25      0.50      0.33         2\n",
            "           4       0.00      0.00      0.00         1\n",
            "          4-       0.50      0.50      0.50         2\n",
            "           5       0.67      1.00      0.80         2\n",
            "          5-       0.00      0.00      0.00         1\n",
            "\n",
            "    accuracy                           0.55        11\n",
            "   macro avg       0.40      0.44      0.41        11\n",
            "weighted avg       0.53      0.55      0.52        11\n",
            "\n"
          ]
        }
      ]
    },
    {
      "cell_type": "code",
      "source": [
        "make_classification(df, clf=\"rforests\", params={'n_estimators':60})"
      ],
      "metadata": {
        "colab": {
          "base_uri": "https://localhost:8080/"
        },
        "id": "rnmHXfwQHfx3",
        "outputId": "77c7705d-6b1f-4c17-ebd2-40c2af04e67a"
      },
      "execution_count": 69,
      "outputs": [
        {
          "output_type": "stream",
          "name": "stdout",
          "text": [
            "              precision    recall  f1-score   support\n",
            "\n",
            "           2       0.67      0.67      0.67         3\n",
            "           3       0.33      0.50      0.40         2\n",
            "           4       1.00      1.00      1.00         1\n",
            "          4-       1.00      0.50      0.67         2\n",
            "           5       1.00      0.50      0.67         2\n",
            "          5-       0.50      1.00      0.67         1\n",
            "\n",
            "    accuracy                           0.64        11\n",
            "   macro avg       0.75      0.69      0.68        11\n",
            "weighted avg       0.74      0.64      0.65        11\n",
            "\n"
          ]
        }
      ]
    },
    {
      "cell_type": "code",
      "source": [
        "make_classification(df, clf=\"rforests\", params={'n_estimators':70})"
      ],
      "metadata": {
        "colab": {
          "base_uri": "https://localhost:8080/"
        },
        "id": "XTjtidC0Hhhb",
        "outputId": "adde6af4-db48-4286-a939-2095ce85b50b"
      },
      "execution_count": 70,
      "outputs": [
        {
          "output_type": "stream",
          "name": "stdout",
          "text": [
            "              precision    recall  f1-score   support\n",
            "\n",
            "           2       0.67      0.67      0.67         3\n",
            "           3       0.00      0.00      0.00         2\n",
            "           4       0.25      1.00      0.40         1\n",
            "          4-       1.00      0.50      0.67         2\n",
            "           5       1.00      0.50      0.67         2\n",
            "          5-       1.00      1.00      1.00         1\n",
            "\n",
            "    accuracy                           0.55        11\n",
            "   macro avg       0.65      0.61      0.57        11\n",
            "weighted avg       0.66      0.55      0.55        11\n",
            "\n"
          ]
        }
      ]
    },
    {
      "cell_type": "code",
      "source": [
        "make_classification(df, clf=\"rforests\", params={'n_estimators':80})"
      ],
      "metadata": {
        "colab": {
          "base_uri": "https://localhost:8080/"
        },
        "id": "zOP5Rf_EHou8",
        "outputId": "55f3b650-3ab7-4532-82b6-497bf60f4ad3"
      },
      "execution_count": 71,
      "outputs": [
        {
          "output_type": "stream",
          "name": "stdout",
          "text": [
            "              precision    recall  f1-score   support\n",
            "\n",
            "           2       1.00      0.67      0.80         3\n",
            "           3       0.33      0.50      0.40         2\n",
            "           4       0.33      1.00      0.50         1\n",
            "          4-       0.00      0.00      0.00         2\n",
            "           5       1.00      0.50      0.67         2\n",
            "          5-       1.00      1.00      1.00         1\n",
            "\n",
            "    accuracy                           0.55        11\n",
            "   macro avg       0.61      0.61      0.56        11\n",
            "weighted avg       0.64      0.55      0.55        11\n",
            "\n"
          ]
        }
      ]
    },
    {
      "cell_type": "code",
      "source": [
        "make_classification(df, clf=\"rforests\", params={'n_estimators':90})"
      ],
      "metadata": {
        "colab": {
          "base_uri": "https://localhost:8080/"
        },
        "id": "bRF9eC38Hqgx",
        "outputId": "6db7d3fc-3bfe-4a06-ba3d-a0fa4f7ff269"
      },
      "execution_count": 72,
      "outputs": [
        {
          "output_type": "stream",
          "name": "stdout",
          "text": [
            "              precision    recall  f1-score   support\n",
            "\n",
            "           2       0.67      0.67      0.67         3\n",
            "           3       1.00      0.50      0.67         2\n",
            "           4       0.25      1.00      0.40         1\n",
            "          4-       1.00      0.50      0.67         2\n",
            "           5       1.00      0.50      0.67         2\n",
            "          5-       1.00      1.00      1.00         1\n",
            "\n",
            "    accuracy                           0.64        11\n",
            "   macro avg       0.82      0.69      0.68        11\n",
            "weighted avg       0.84      0.64      0.67        11\n",
            "\n"
          ]
        }
      ]
    },
    {
      "cell_type": "code",
      "source": [
        "make_classification(df, clf=\"rforests\", params={'n_estimators':100})"
      ],
      "metadata": {
        "colab": {
          "base_uri": "https://localhost:8080/"
        },
        "id": "TtpEVqO9HsIJ",
        "outputId": "48e1af25-c957-46b1-d5bd-c9eb15934f9e"
      },
      "execution_count": 74,
      "outputs": [
        {
          "output_type": "stream",
          "name": "stdout",
          "text": [
            "              precision    recall  f1-score   support\n",
            "\n",
            "           2       1.00      0.67      0.80         3\n",
            "           3       0.33      0.50      0.40         2\n",
            "           4       0.50      1.00      0.67         1\n",
            "          4-       0.50      0.50      0.50         2\n",
            "           5       1.00      0.50      0.67         2\n",
            "          5-       1.00      1.00      1.00         1\n",
            "\n",
            "    accuracy                           0.64        11\n",
            "   macro avg       0.72      0.69      0.67        11\n",
            "weighted avg       0.74      0.64      0.65        11\n",
            "\n"
          ]
        }
      ]
    }
  ]
}